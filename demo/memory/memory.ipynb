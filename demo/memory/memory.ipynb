{
 "cells": [
  {
   "cell_type": "code",
   "execution_count": 16,
   "id": "39bd05fd-cae3-4bed-9b16-0114306cfc72",
   "metadata": {
    "editable": false,
    "init_cell": true,
    "tags": []
   },
   "outputs": [
    {
     "name": "stdout",
     "output_type": "stream",
     "text": [
      "The autoreload extension is already loaded. To reload it, use:\n",
      "  %reload_ext autoreload\n"
     ]
    }
   ],
   "source": [
    "# Please execute/shift-return this cell everytime you run the notebook.  Don't edit it. \n",
    "%load_ext autoreload\n",
    "%autoreload 2\n",
    "from notebook import * "
   ]
  },
  {
   "cell_type": "markdown",
   "id": "cc91b7b4-d577-4799-90e0-8caf96cf580c",
   "metadata": {},
   "source": [
    " # Memory hierarchy\n",
    "\n",
    "## How much time did I spent on \"memory\"\n",
    "\n",
    "Remember our demo long time ago?"
   ]
  },
  {
   "cell_type": "code",
   "execution_count": null,
   "id": "721b5672-7a0b-421d-b592-dfc57f24d787",
   "metadata": {},
   "outputs": [],
   "source": [
    "compare([do_render_code(\"./madd/madd_A.c\", lang=\"c++\", show=[\"//START\", \"//END\"]),do_render_code(\"./madd/madd_B.c\", lang=\"c++\", show=[\"//START\", \"//END\"])])"
   ]
  },
  {
   "cell_type": "code",
   "execution_count": null,
   "id": "9ac4bfe2-49ab-4ac7-972d-5660bc361401",
   "metadata": {},
   "outputs": [],
   "source": [
    "render_code(\"./mv/matvec.c\", lang=\"c++\", show=[\"//I_FIRST_START\", \"//I_FIRST_END\"])"
   ]
  },
  {
   "cell_type": "code",
   "execution_count": null,
   "id": "4c98ee9b-bc61-424a-947f-f7f165128697",
   "metadata": {},
   "outputs": [],
   "source": [
    "! cd mv; make clean; make; ./matvec 16 1 1 >> mv_addresses.csv ; head -n 100 mv_addresses.csv"
   ]
  },
  {
   "cell_type": "code",
   "execution_count": null,
   "id": "95727f0e-8abc-4df0-a8ec-550f3504dcee",
   "metadata": {},
   "outputs": [],
   "source": [
    "! cd mv; ./matvec 16 1 0 >> mv_addresses_j_first.csv ; head -n 100 mv_addresses_j_first.csv"
   ]
  },
  {
   "cell_type": "markdown",
   "id": "a5018288-6079-4125-98a1-4f9a2b0b3805",
   "metadata": {
    "tags": []
   },
   "source": [
    "## The memory hierarchy of my computer"
   ]
  },
  {
   "cell_type": "code",
   "execution_count": 19,
   "id": "b3530190-c853-4c69-85de-07e8880ca00a",
   "metadata": {},
   "outputs": [
    {
     "name": "stdout",
     "output_type": "stream",
     "text": [
      "Model name:                      13th Gen Intel(R) Core(TM) i7-13700\n",
      "LEVEL1_ICACHE_SIZE                 32768\n",
      "LEVEL1_ICACHE_ASSOC                8\n",
      "LEVEL1_ICACHE_LINESIZE             64\n",
      "LEVEL1_DCACHE_SIZE                 49152\n",
      "LEVEL1_DCACHE_ASSOC                12\n",
      "LEVEL1_DCACHE_LINESIZE             64\n",
      "LEVEL2_CACHE_SIZE                  2097152\n",
      "LEVEL2_CACHE_ASSOC                 16\n",
      "LEVEL2_CACHE_LINESIZE              64\n",
      "LEVEL3_CACHE_SIZE                  31457280\n",
      "LEVEL3_CACHE_ASSOC                 12\n",
      "LEVEL3_CACHE_LINESIZE              64\n",
      "LEVEL4_CACHE_SIZE                  0\n",
      "LEVEL4_CACHE_ASSOC                 0\n",
      "LEVEL4_CACHE_LINESIZE              0\n"
     ]
    }
   ],
   "source": [
    "# Hung-Wei's Desktop\n",
    "! lscpu | grep \"Model name\"\n",
    "! getconf -a | grep CACHE"
   ]
  },
  {
   "cell_type": "code",
   "execution_count": 20,
   "id": "774a19b0-8788-418e-af2d-0ec749091dd6",
   "metadata": {},
   "outputs": [
    {
     "name": "stdout",
     "output_type": "stream",
     "text": [
      "htseng\n",
      "srun -N1 -p datahub lscpu | grep 'Model name'\n",
      "Model name:                         12th Gen Intel(R) Core(TM) i3-12100F\n",
      "htseng\n",
      "srun -N1 -p datahub  getconf -a | grep CACHE\n",
      "LEVEL1_ICACHE_SIZE                 32768\n",
      "LEVEL1_ICACHE_ASSOC                8\n",
      "LEVEL1_ICACHE_LINESIZE             64\n",
      "LEVEL1_DCACHE_SIZE                 49152\n",
      "LEVEL1_DCACHE_ASSOC                12\n",
      "LEVEL1_DCACHE_LINESIZE             64\n",
      "LEVEL2_CACHE_SIZE                  1310720\n",
      "LEVEL2_CACHE_ASSOC                 10\n",
      "LEVEL2_CACHE_LINESIZE              64\n",
      "LEVEL3_CACHE_SIZE                  12582912\n",
      "LEVEL3_CACHE_ASSOC                 12\n",
      "LEVEL3_CACHE_LINESIZE              64\n",
      "LEVEL4_CACHE_SIZE                  0\n",
      "LEVEL4_CACHE_ASSOC                 0\n",
      "LEVEL4_CACHE_LINESIZE              0\n"
     ]
    }
   ],
   "source": [
    "# Your CS203 Cluster\n",
    "! cs203 job run \"lscpu | grep 'Model name'; getconf -a | grep CACHE\""
   ]
  },
  {
   "cell_type": "code",
   "execution_count": 21,
   "id": "27ad0dd6-409c-4467-8acd-9cb0f9eceaf2",
   "metadata": {},
   "outputs": [
    {
     "name": "stdout",
     "output_type": "stream",
     "text": [
      "Model name:          Cortex-A57\r\n",
      "LEVEL1_ICACHE_SIZE                 0\r\n",
      "LEVEL1_ICACHE_ASSOC                0\r\n",
      "LEVEL1_ICACHE_LINESIZE             64\r\n",
      "LEVEL1_DCACHE_SIZE                 0\r\n",
      "LEVEL1_DCACHE_ASSOC                0\r\n",
      "LEVEL1_DCACHE_LINESIZE             64\r\n",
      "LEVEL2_CACHE_SIZE                  0\r\n",
      "LEVEL2_CACHE_ASSOC                 0\r\n",
      "LEVEL2_CACHE_LINESIZE              0\r\n",
      "LEVEL3_CACHE_SIZE                  0\r\n",
      "LEVEL3_CACHE_ASSOC                 0\r\n",
      "LEVEL3_CACHE_LINESIZE              0\r\n",
      "LEVEL4_CACHE_SIZE                  0\r\n",
      "LEVEL4_CACHE_ASSOC                 0\r\n",
      "LEVEL4_CACHE_LINESIZE              0\r\n"
     ]
    }
   ],
   "source": [
    "# Jetson Nano (NV Tegra X1)\n",
    "! ssh htseng@nano-2 \"lscpu | grep 'Model name'; getconf -a | grep CACHE\""
   ]
  },
  {
   "cell_type": "markdown",
   "id": "ee8398fe-6a0e-4e7b-ac3b-5170dc8dc5cb",
   "metadata": {},
   "source": [
    "## How blocks are stored in a cache?\n",
    "\n",
    "How these address are stored \"if\" they're in a direct-mapped, 16B-sized blocks, 16-block cache?"
   ]
  },
  {
   "cell_type": "code",
   "execution_count": null,
   "id": "e103b0e7-9e5a-4250-a790-2e25f901557c",
   "metadata": {},
   "outputs": [],
   "source": [
    "! cd mv; make clean; make; ./matvec 16 1 "
   ]
  },
  {
   "cell_type": "code",
   "execution_count": null,
   "id": "71c37f3e-067e-4cc2-a413-da2112259597",
   "metadata": {},
   "outputs": [],
   "source": [
    "!echo \"element,address\"> addresses.csv; ./mv/matvec 16 1 >> addresses.csv\n",
    "df = pd.read_csv(\"addresses.csv\",skipfooter=1,engine='python')\n",
    "df[\"address\"] = df[\"address\"].str.replace('0x','')\n",
    "df[\"address\"]=df[[\"address\"]].apply(lambda x: x.astype(str).map(lambda x: int(x, base=16)))\n",
    "# only show the first N addresses \n",
    "#N = 32\n",
    "#df2 = df2.iloc[:N]\n",
    "block_size = 16\n",
    "offset_bits = int(math.log2(block_size))\n",
    "number_of_blocks = 16\n",
    "index_bits = int(math.log2(number_of_blocks))\n",
    "df[\"tag\"]=(df[\"address\"].apply(lambda x: x >> (offset_bits+index_bits)))\n",
    "df[\"tag\"] = df[\"tag\"].apply(lambda x: hex(x))\n",
    "df[\"index\"] = df[\"address\"].apply(lambda x: hex((x>>offset_bits) % number_of_blocks))\n",
    "df[\"address\"] = df[\"address\"].apply(lambda x: hex(x))\n",
    "display_df_mono(df)"
   ]
  },
  {
   "cell_type": "markdown",
   "id": "40385bd6-6446-479e-8505-9d758ce3e274",
   "metadata": {},
   "source": [
    "What if we have a 2-way, 16-byte blocked, 16-block cache?"
   ]
  },
  {
   "cell_type": "code",
   "execution_count": null,
   "id": "9a5fcde3-6f5e-4ba7-a416-cd9b456acc8a",
   "metadata": {},
   "outputs": [],
   "source": [
    "df = pd.read_csv(\"addresses.csv\",skipfooter=1,engine='python')\n",
    "df[\"address\"] = df[\"address\"].str.replace('0x','')\n",
    "df[\"address\"]=df[[\"address\"]].apply(lambda x: x.astype(str).map(lambda x: int(x, base=16)))\n",
    "# only show the first N addresses \n",
    "#N = 32\n",
    "#df2 = df2.iloc[:N]\n",
    "block_size = 16\n",
    "offset_bits = int(math.log2(block_size))\n",
    "number_of_blocks = 16\n",
    "way_assoc=2\n",
    "number_of_sets = number_of_blocks/way_assoc\n",
    "index_bits = int(math.log2(number_of_sets))\n",
    "df[\"tag\"]=(df[\"address\"].apply(lambda x: x >> (offset_bits+index_bits)))\n",
    "df[\"tag\"] = df[\"tag\"].apply(lambda x: hex(x))\n",
    "df[\"index\"] = df[\"address\"].apply(lambda x: hex((x>>offset_bits) % number_of_blocks))\n",
    "df[\"address\"] = df[\"address\"].apply(lambda x: hex(x))\n",
    "display_df_mono(df)"
   ]
  },
  {
   "cell_type": "markdown",
   "id": "ff7ecd1c-3df2-432c-9836-96b4a12417aa",
   "metadata": {},
   "source": [
    "## Cache performance of code on \"real machines\"\n",
    "\n",
    "### NVIDIA Jetson Nano -- Tegra X1"
   ]
  },
  {
   "cell_type": "code",
   "execution_count": null,
   "id": "c95d959a-7d2b-4007-b994-d6df936c95bb",
   "metadata": {},
   "outputs": [],
   "source": [
    "render_code(\"4way_madd/madd.c\", show=[\"//START\",\"//END\"])"
   ]
  },
  {
   "cell_type": "markdown",
   "id": "4caeca16-9208-41d5-9c17-f3c98b538442",
   "metadata": {},
   "source": [
    "Let's run it without the above loop code to figure the baseline memory accesses without running the loop on a Jetson nano.\n",
    "\n",
    "#### Run without the 4-way matrix add loop code."
   ]
  },
  {
   "cell_type": "code",
   "execution_count": null,
   "id": "69624b82-b48c-448a-841b-6f1da2c98d38",
   "metadata": {},
   "outputs": [],
   "source": [
    "# Run it \"without\" the above code.\n",
    "! ssh htseng@nano-2 \"lscpu; cd courses/CS203/demo/memory/4way_madd/; make clean madd_nano; valgrind --tool=cachegrind ./madd_nano 16384 0 \""
   ]
  },
  {
   "cell_type": "markdown",
   "id": "88c871fe-474a-4852-a963-80df309c577e",
   "metadata": {},
   "source": [
    "Too much detail! Let's use grep to narrow down the outputs."
   ]
  },
  {
   "cell_type": "code",
   "execution_count": null,
   "id": "ce2792de-baa4-4bbb-9980-e36d1b267d37",
   "metadata": {},
   "outputs": [],
   "source": [
    "# Run it \"without\" the above code.\n",
    "! ssh htseng@nano-2 \"cd courses/CS203/demo/memory/4way_madd/; valgrind --tool=cachegrind ./madd_nano 8192 0 >& nano_without_loop.perf; grep 'D   refs\\|D1' nano_without_loop.perf\""
   ]
  },
  {
   "cell_type": "markdown",
   "id": "2c5138d7-3835-4ce7-b1d0-695de463f221",
   "metadata": {},
   "source": [
    "Let's run it with the above loop code again and observe the changes in L1 cache misses/accesses\n",
    "\n",
    "#### Run with the 4-way matrix add loop code."
   ]
  },
  {
   "cell_type": "code",
   "execution_count": null,
   "id": "ecb85bd2-1a1b-48f5-80f6-1e0483bdd89e",
   "metadata": {},
   "outputs": [],
   "source": [
    "! ssh htseng@nano-2 \"cd courses/CS203/demo/memory/4way_madd/;valgrind --tool=cachegrind ./madd_nano 8192 8192 >& nano_with_loop.perf; grep 'D   refs\\|D1' nano_with_loop.perf\""
   ]
  },
  {
   "cell_type": "code",
   "execution_count": null,
   "id": "b9f89b3f-454a-456b-9c1c-b5b727ec6b76",
   "metadata": {},
   "outputs": [],
   "source": [
    "# Let's do some math here\n",
    "total_number_of_accesses_before_the_loop =    1527712\n",
    "total_number_of_accesses_after_the_loop =  1548198\n",
    "total_number_of_accesses_in_the_loop = total_number_of_accesses_after_the_loop-total_number_of_accesses_before_the_loop\n",
    "total_number_of_misses_before_the_loop =  8543\n",
    "total_number_of_misses_after_the_loop = 29036\n",
    "total_number_of_misses_in_the_loop = total_number_of_misses_after_the_loop-total_number_of_misses_before_the_loop\n",
    "miss_rate_of_the_loop = total_number_of_misses_in_the_loop/total_number_of_accesses_in_the_loop\n",
    "\n",
    "print(f\"access in the loop: %d misses in the loop %d miss_rate %lf\" % (total_number_of_accesses_in_the_loop, total_number_of_misses_in_the_loop, miss_rate_of_the_loop))"
   ]
  },
  {
   "cell_type": "code",
   "execution_count": null,
   "id": "316a3596-4cff-47e1-a1ad-6101221266dd",
   "metadata": {},
   "outputs": [],
   "source": [
    "! cd 4way_madd; make madd_dump; cd ..; \n",
    "!echo \"element,address\"> addresses_madd.csv; \n",
    "!./4way_madd/madd_dump 8192 8192 2>> addresses_madd.csv\n",
    "! head -n 101 addresses_madd.csv > addresses_digest.csv\n",
    "df = pd.read_csv(\"addresses_digest.csv\",skipfooter=1,engine='python')\n",
    "df[\"address\"] = df[\"address\"].str.replace('0x','')\n",
    "df[\"address\"]=df[[\"address\"]].apply(lambda x: x.astype(str).map(lambda x: int(x, base=16)))\n",
    "# only show the first N addresses \n",
    "#N = 32\n",
    "#df2 = df2.iloc[:N]\n",
    "C = 32768\n",
    "B = 64\n",
    "A = 4\n",
    "offset_bits = int(math.log2(B))\n",
    "S = int(C/(B*A))\n",
    "index_bits = int(math.log2(S))\n",
    "df[\"tag\"]=(df[\"address\"].apply(lambda x: x >> (offset_bits+index_bits)))\n",
    "df[\"tag\"] = df[\"tag\"].apply(lambda x: hex(x))\n",
    "df[\"index\"] = df[\"address\"].apply(lambda x: hex((x>>offset_bits)%S))\n",
    "df[\"address\"] = df[\"address\"].apply(lambda x: hex(x))\n",
    "display_df_mono(df)"
   ]
  },
  {
   "cell_type": "markdown",
   "id": "72e70bca-7676-4ce1-94ef-937bbc3c9a61",
   "metadata": {
    "tags": []
   },
   "source": [
    "### Intel Core i7 13700 -- 12-way L1, 64B-blocked, 48KB cache\n",
    "\n",
    "Let's run it without the above loop code to figure the baseline memory accesses without running the loop on a Jetson nano.\n",
    "\n",
    "Let's again dump, parse and simulation the address sequence."
   ]
  },
  {
   "cell_type": "code",
   "execution_count": null,
   "id": "fbf3b9b9-6407-4c72-864f-c13f9319eee7",
   "metadata": {},
   "outputs": [],
   "source": [
    "! cd 4way_madd; make madd_dump; cd ..; \n",
    "!echo \"element,address\"> addresses_madd.csv; \n",
    "!./4way_madd/madd_dump 8192 8192 2>> addresses_madd.csv\n",
    "! head -n 101 addresses_madd.csv > addresses_digest.csv\n",
    "df = pd.read_csv(\"addresses_digest.csv\",skipfooter=1,engine='python')\n",
    "df[\"address\"] = df[\"address\"].str.replace('0x','')\n",
    "df[\"address\"]=df[[\"address\"]].apply(lambda x: x.astype(str).map(lambda x: int(x, base=16)))\n",
    "# only show the first N addresses \n",
    "#N = 32\n",
    "#df2 = df2.iloc[:N]\n",
    "C = 49152\n",
    "B = 64\n",
    "A = 12\n",
    "offset_bits = int(math.log2(B))\n",
    "S = int(C/(B*A))\n",
    "index_bits = int(math.log2(S))\n",
    "df[\"tag\"]=(df[\"address\"].apply(lambda x: x >> (offset_bits+index_bits)))\n",
    "df[\"tag\"] = df[\"tag\"].apply(lambda x: hex(x))\n",
    "df[\"index\"] = df[\"address\"].apply(lambda x: hex((x>>offset_bits) % S))\n",
    "df[\"address\"] = df[\"address\"].apply(lambda x: hex(x))\n",
    "display_df_mono(df)"
   ]
  },
  {
   "cell_type": "markdown",
   "id": "5d38cf1d-d47c-48f1-96b6-1dfc68093a03",
   "metadata": {},
   "source": [
    "#### Run without the 4-way matrix add loop code."
   ]
  },
  {
   "cell_type": "code",
   "execution_count": null,
   "id": "fd8ea680-b118-4afc-98da-a61ce65e5f76",
   "metadata": {
    "tags": []
   },
   "outputs": [],
   "source": [
    "# Run it \"without\" the above code.\n",
    "! lscpu; cd ~/courses/CS203/demo/memory/4way_madd/; rm madd_intel; make madd_intel; valgrind --tool=cachegrind ./madd_intel 16384 0 >& intel_without_loop.perf; grep 'D   refs\\|D1' intel_without_loop.perf"
   ]
  },
  {
   "cell_type": "markdown",
   "id": "c5cf8a9a-895e-4462-a516-0afa05702d52",
   "metadata": {},
   "source": [
    "Let's run it with the above loop code again and observe the changes in L1 cache misses/accesses\n",
    "\n",
    "#### Run with the 4-way matrix add loop code."
   ]
  },
  {
   "cell_type": "code",
   "execution_count": null,
   "id": "9299bac2-ee48-4843-8675-388bc69edf50",
   "metadata": {},
   "outputs": [],
   "source": [
    "# Run it \"with\" the above code.\n",
    "! cd ~/courses/CS203/demo/memory/4way_madd/; valgrind --tool=cachegrind ./madd_intel 16384 16384  >& intel_with_loop.perf; grep 'D   refs\\|D1' intel_with_loop.perf"
   ]
  },
  {
   "cell_type": "code",
   "execution_count": null,
   "id": "f2604fdb-2174-4694-a21f-df29f493f19c",
   "metadata": {},
   "outputs": [],
   "source": [
    "# Let's do some math here\n",
    "total_number_of_accesses_before_the_loop =2285911\n",
    "total_number_of_accesses_after_the_loop = 2326877\n",
    "total_number_of_accesses_in_the_loop = total_number_of_accesses_after_the_loop-total_number_of_accesses_before_the_loop\n",
    "total_number_of_misses_before_the_loop = 13447\n",
    "total_number_of_misses_after_the_loop = 23694\n",
    "total_number_of_misses_in_the_loop = total_number_of_misses_after_the_loop-total_number_of_misses_before_the_loop\n",
    "miss_rate_of_the_loop = total_number_of_misses_in_the_loop/total_number_of_accesses_in_the_loop\n",
    "\n",
    "print(f\"access in the loop: %d misses in the loop %d miss_rate %lf\" % (total_number_of_accesses_in_the_loop, total_number_of_misses_in_the_loop, miss_rate_of_the_loop))"
   ]
  }
 ],
 "metadata": {
  "kernelspec": {
   "display_name": "Python 3 (ipykernel)",
   "language": "python",
   "name": "python3"
  },
  "language_info": {
   "codemirror_mode": {
    "name": "ipython",
    "version": 3
   },
   "file_extension": ".py",
   "mimetype": "text/x-python",
   "name": "python",
   "nbconvert_exporter": "python",
   "pygments_lexer": "ipython3",
   "version": "3.8.10"
  },
  "toc-autonumbering": true,
  "toc-showcode": false,
  "toc-showmarkdowntxt": false,
  "widgets": {
   "application/vnd.jupyter.widget-state+json": {
    "state": {},
    "version_major": 2,
    "version_minor": 0
   }
  }
 },
 "nbformat": 4,
 "nbformat_minor": 5
}
